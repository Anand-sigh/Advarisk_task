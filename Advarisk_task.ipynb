{
 "cells": [
  {
   "cell_type": "markdown",
   "id": "fa9fe0e0",
   "metadata": {},
   "source": [
    "# DATA PROCESS CODE"
   ]
  },
  {
   "cell_type": "code",
   "execution_count": 33,
   "id": "204a5f23",
   "metadata": {},
   "outputs": [],
   "source": [
    "import requests\n",
    "import scrapy\n",
    "from scrapy.http import HtmlResponse\n",
    "import hashlib\n",
    "import json\n",
    "from pymongo import MongoClient\n",
    "def get_hash(n):\n",
    "    return hashlib.sha256(((n+\"Advarisk\").lower()).encode()).hexdigest()\n",
    "\n",
    "outlist = []\n",
    "def process_data():\n",
    "    \n",
    "    page = requests.get('https://www.zaubacorp.com/company-list/p-1-company.html')\n",
    "    res=  HtmlResponse('example.com', body = page.text, encoding = 'utf-8')\n",
    "    data = res.xpath(\"//div/span[@style='float:right']//text()\").get('')\n",
    "    act_data = (data.split('of')[-1].strip())\n",
    "    total_pages = int(act_data.replace(',',''))\n",
    "    \n",
    "    for i in range(1,total_pages + 1):\n",
    "        print(i)\n",
    "        url = f\"https://www.zaubacorp.com/company-list/p-{i}-company.html\"\n",
    "        print(url)\n",
    "        page = requests.get(url)\n",
    "        res=  HtmlResponse('example.com', body = page.text, encoding = 'utf-8')\n",
    "        for i in res.xpath('//table[@id=\"table\"]//tr')[1:]:\n",
    "            if i.xpath('//td[1]/text()'):\n",
    "            cin = i.xpath('.//td[1]/text()').get('').strip()\n",
    "            link = i.xpath('.//td[2]//a/@href').get('').strip()\n",
    "            name = i.xpath('.//td[2]//a/text()').get('').strip()\n",
    "            city = i.xpath('.//td[3]/text()').get('').strip()\n",
    "            status = i.xpath('.//td[4]/text()').get('').strip()\n",
    "            print(status)\n",
    "            outlist.append({\n",
    "                \"ID\" : get_hash(cin),\n",
    "                \"CIN\" : cin,\n",
    "                \"LINK\" : link,\n",
    "                \"NAME\" : name,\n",
    "                \"CITY\" : city,\n",
    "                \"STATUS\" : status\n",
    "            })\n",
    "    try:\n",
    "        with open('Companies_incorporated_india.json', 'w' , encoding='utf-8') as f:\n",
    "            json.dump(outlist, f, indent=4 , ensure_ascii=False)\n",
    "    except:\n",
    "        print(\"File not found !!!\")\n",
    "process_data()"
   ]
  },
  {
   "cell_type": "markdown",
   "id": "1660c793",
   "metadata": {},
   "source": [
    "# DB PUSH CODE"
   ]
  },
  {
   "cell_type": "code",
   "execution_count": 37,
   "id": "ee960845",
   "metadata": {},
   "outputs": [],
   "source": [
    "def get_data_from_file(fname):\n",
    "    data = []\n",
    "    file= f\"{fname}\"\n",
    "    try:\n",
    "        with open(file,'rb') as f:\n",
    "            data = json.load(f)\n",
    "        print(f\"Available Data: {len(data)}\")\n",
    "        return data\n",
    "    except FileNotFoundError:\n",
    "        return \"NO FILE\""
   ]
  },
  {
   "cell_type": "code",
   "execution_count": null,
   "id": "6589a361",
   "metadata": {},
   "outputs": [],
   "source": [
    "def write_data_to_db():\n",
    "    client = MongoClient('localhost', 27017)\n",
    "    db = client.Advarisk\n",
    "    collection = db.company\n",
    "    file_data = get_data_from_file('C://Users/User/Companies_incorporated_india.json')\n",
    "    if file_data != \"NO FILE\":\n",
    "        print(\"Inserting Data from Given File\")\n",
    "        for com in file_data:\n",
    "            db.collection.insert_one(com)    \n",
    "write_data_to_db()"
   ]
  },
  {
   "cell_type": "code",
   "execution_count": null,
   "id": "8b32e62e",
   "metadata": {},
   "outputs": [],
   "source": []
  }
 ],
 "metadata": {
  "kernelspec": {
   "display_name": "Python 3 (ipykernel)",
   "language": "python",
   "name": "python3"
  },
  "language_info": {
   "codemirror_mode": {
    "name": "ipython",
    "version": 3
   },
   "file_extension": ".py",
   "mimetype": "text/x-python",
   "name": "python",
   "nbconvert_exporter": "python",
   "pygments_lexer": "ipython3",
   "version": "3.8.0"
  }
 },
 "nbformat": 4,
 "nbformat_minor": 5
}
